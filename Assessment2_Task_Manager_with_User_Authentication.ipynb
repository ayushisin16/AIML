{
  "nbformat": 4,
  "nbformat_minor": 0,
  "metadata": {
    "colab": {
      "provenance": [],
      "authorship_tag": "ABX9TyPBGzhM6eLGjidmdgPreMWm",
      "include_colab_link": true
    },
    "kernelspec": {
      "name": "python3",
      "display_name": "Python 3"
    },
    "language_info": {
      "name": "python"
    }
  },
  "cells": [
    {
      "cell_type": "markdown",
      "metadata": {
        "id": "view-in-github",
        "colab_type": "text"
      },
      "source": [
        "<a href=\"https://colab.research.google.com/github/ayushisin16/AIML/blob/main/Assessment2_Task_Manager_with_User_Authentication.ipynb\" target=\"_parent\"><img src=\"https://colab.research.google.com/assets/colab-badge.svg\" alt=\"Open In Colab\"/></a>"
      ]
    },
    {
      "cell_type": "code",
      "execution_count": 3,
      "metadata": {
        "id": "Ftr-Hv3pPpST"
      },
      "outputs": [],
      "source": [
        "import hashlib\n",
        "import json\n",
        "import os\n",
        "\n",
        "##Task Manager with User Authentication##\n",
        "'''1. User Authentication:\n",
        "• Registration:\n",
        "o Create a function to prompt the user to enter a username and password\n",
        "o Ensure that the username is unique, and hash the password for security before storing it in a file\n",
        "• Login:\n",
        "o Create a function to prompt the user for their username and password, validate the credentials by comparing them with the stored\n",
        "data, and grant access to the task manager upon successful login '''\n",
        "\n",
        "def hash_password(password):\n",
        "    \"\"\"Hashes a password using SHA-256.\"\"\"\n",
        "    return hashlib.sha256(password.encode()).hexdigest()\n",
        "\n",
        "def load_users():\n",
        "    \"\"\"Loads user data from a JSON file.\"\"\"\n",
        "    if os.path.exists(\"users.json\"):\n",
        "        with open(\"users.json\", \"r\") as f:\n",
        "            return json.load(f)\n",
        "    return {}\n",
        "\n",
        "def save_users(users):\n",
        "    \"\"\"Saves user data to a JSON file.\"\"\"\n",
        "    with open(\"users.json\", \"w\") as f:\n",
        "        json.dump(users, f, indent=4)\n",
        "\n",
        "def register():\n",
        "    \"\"\"Registers a new user.\"\"\"\n",
        "    users = load_users()\n",
        "    while True:\n",
        "        username = input(\"Enter username: \")\n",
        "        if username in users:\n",
        "            print(\"Username already exists. Please choose a different username.\")\n",
        "        else:\n",
        "            password = input(\"Enter password: \")\n",
        "            hashed_password = hash_password(password)\n",
        "            users[username] = {\"password\": hashed_password}\n",
        "            save_users(users)\n",
        "            print(\"Registration successful!\")\n",
        "            break\n",
        "\n",
        "def login():\n",
        "    \"\"\"Logs in an existing user.\"\"\"\n",
        "    users = load_users()\n",
        "    username = input(\"Enter username: \")\n",
        "    password = input(\"Enter password: \")\n",
        "    hashed_password = hash_password(password)\n",
        "\n",
        "    if username in users and users[username][\"password\"] == hashed_password:\n",
        "        print(\"Login successful!\")\n",
        "        return username\n",
        "    else:\n",
        "        print(\"Invalid username or password.\")\n",
        "        return None\n",
        "\n",
        "def enterCredentials():\n",
        "    \"\"\"Prompts the user to choose between registration and login.\"\"\"\n",
        "    choice = input(\"Enter 'register' to register or 'login' to login: \").lower()\n",
        "    if choice == \"register\":\n",
        "        register()\n",
        "    elif choice == \"login\":\n",
        "        return login()\n",
        "    else:\n",
        "        print(\"Invalid choice.\")\n",
        "        return None\n"
      ]
    },
    {
      "cell_type": "code",
      "metadata": {
        "id": "f3f83a2e"
      },
      "source": [
        "'''2. Add a Task:\n",
        "• Create a function that prompts the user for a task description. Assign a\n",
        "unique task ID and set the status to Pending\n",
        "• Store the task in a file, and confirm that the task was added'''\n",
        "\n",
        "import uuid # Import the uuid library to generate unique task IDs\n",
        "import json\n",
        "import os\n",
        "\n",
        "def load_tasks():\n",
        "    \"\"\"Loads task data from a JSON file.\"\"\"\n",
        "    if os.path.exists(\"tasks.json\"):\n",
        "        with open(\"tasks.json\", \"r\") as f:\n",
        "            return json.load(f)\n",
        "    return {}\n",
        "\n",
        "def save_tasks(tasks):\n",
        "    \"\"\"Saves task data to a JSON file.\"\"\"\n",
        "    with open(\"tasks.json\", \"w\") as f:\n",
        "        json.dump(tasks, f, indent=4)\n",
        "\n",
        "def add_task():\n",
        "    \"\"\"Adds a new task.\"\"\"\n",
        "    tasks = load_tasks()\n",
        "    task_description = input(\"Enter task description: \")\n",
        "    task_id = str(uuid.uuid4())  # Generate a unique task ID\n",
        "    tasks[task_id] = {\"description\": task_description, \"status\": \"Pending\"}\n",
        "    save_tasks(tasks)\n",
        "    print(f\"Task '{task_description}' added with ID: {task_id}\")\n"
      ],
      "execution_count": 4,
      "outputs": []
    },
    {
      "cell_type": "code",
      "metadata": {
        "id": "33cdc687"
      },
      "source": [
        "'''3. View Tasks:\n",
        "• Create a function to retrieve and display all tasks for the logged-in user\n",
        "• Each task should show the task ID, description, and status (Pending or\n",
        "Completed)'''\n",
        "\n",
        "def view_tasks():\n",
        "    \"\"\"Retrieves and displays all tasks.\"\"\"\n",
        "    tasks = load_tasks()\n",
        "    if not tasks:\n",
        "        print(\"No tasks found.\")\n",
        "    else:\n",
        "        print(\"Your tasks:\")\n",
        "        for task_id, task_info in tasks.items():\n",
        "            print(f\"ID: {task_id} - Description: {task_info['description']} - Status: {task_info['status']}\")\n"
      ],
      "execution_count": 5,
      "outputs": []
    },
    {
      "cell_type": "code",
      "metadata": {
        "id": "bbaa4955"
      },
      "source": [
        "'''4. Mark a Task as Completed:\n",
        "• Create a function that allows the user to select a task by its ID and update\n",
        "its status to Completed'''\n",
        "def complete_task():\n",
        "    \"\"\"Allows the user to select a task by ID and mark it as Completed.\"\"\"\n",
        "    tasks = load_tasks()\n",
        "    task_id = input(\"Enter the ID of the task to mark as completed: \")\n",
        "    if task_id in tasks:\n",
        "        if tasks[task_id][\"status\"] == \"Completed\":\n",
        "            print(f\"Task with ID {task_id} is already completed.\")\n",
        "        else:\n",
        "            tasks[task_id][\"status\"] = \"Completed\"\n",
        "            save_tasks(tasks)\n",
        "            print(f\"Task with ID {task_id} marked as Completed.\")\n",
        "    else:\n",
        "        print(f\"Task with ID {task_id} not found.\")"
      ],
      "execution_count": 6,
      "outputs": []
    },
    {
      "cell_type": "code",
      "metadata": {
        "id": "58529639"
      },
      "source": [
        "'''5. Delete a Task:\n",
        "• Create a function that allows the user to select a task by its ID and delete\n",
        "it from their task list'''\n",
        "def delete_task():\n",
        "    \"\"\"Allows the user to select a task by ID and delete it.\"\"\"\n",
        "    tasks = load_tasks()\n",
        "    task_id = input(\"Enter the ID of the task to delete: \")\n",
        "    if task_id in tasks:\n",
        "        del tasks[task_id]\n",
        "        save_tasks(tasks)\n",
        "        print(f\"Task with ID {task_id} deleted.\")\n",
        "    else:\n",
        "        print(f\"Task with ID {task_id} not found.\")"
      ],
      "execution_count": 7,
      "outputs": []
    },
    {
      "cell_type": "code",
      "source": [
        "'''6. Create an Interactive Menu:\n",
        "• Build a menu that allows users to choose between:\n",
        "o Add a Task\n",
        "o View Tasks\n",
        "o Mark a Task as Completed\n",
        "o Delete a Task\n",
        "o Logout\n",
        "For each option, call the corresponding function, and loop back to the menu until\n",
        "the user logs out.'''\n",
        "def menu():\n",
        "    \"\"\"Displays the menu and handles user input for task manager operations.\"\"\"\n",
        "    while True:\n",
        "        print(\"\\nTask Manager Menu:\")\n",
        "        print(\"1. Add Task\")\n",
        "        print(\"2. View Tasks\")\n",
        "        print(\"3. Mark Task as Completed\")\n",
        "        print(\"4. Delete Task\")\n",
        "        print(\"5. Logout\")\n",
        "\n",
        "        choice = input(\"Enter your choice: \")\n",
        "\n",
        "        if choice == \"1\":\n",
        "            add_task()\n",
        "        elif choice == \"2\":\n",
        "            view_tasks()\n",
        "        elif choice == \"3\":\n",
        "            complete_task()\n",
        "        elif choice == \"4\":\n",
        "            delete_task()\n",
        "        elif choice == \"5\":\n",
        "            print(\"Logging out.\")\n",
        "            break  # Exit the menu loop\n",
        "        else:\n",
        "            print(\"Invalid choice. Please try again.\")\n",
        "\n",
        "# Example usage (you would call this after successful login)\n",
        "# menu()"
      ],
      "metadata": {
        "id": "YpoX5jLS0XSd"
      },
      "execution_count": 10,
      "outputs": []
    },
    {
      "cell_type": "code",
      "source": [],
      "metadata": {
        "id": "i-F1VuNP1EQj"
      },
      "execution_count": null,
      "outputs": []
    },
    {
      "cell_type": "code",
      "metadata": {
        "colab": {
          "base_uri": "https://localhost:8080/"
        },
        "id": "3f87f9eb",
        "outputId": "b358f25f-60ac-4e15-e43d-b0014e927610"
      },
      "source": [
        "# Start the task manager\n",
        "logged_in_user = enterCredentials()\n",
        "\n",
        "if logged_in_user:\n",
        "    menu()"
      ],
      "execution_count": null,
      "outputs": [
        {
          "output_type": "stream",
          "name": "stdout",
          "text": [
            "Enter 'register' to register or 'login' to login: login\n",
            "Enter username: ayushi\n",
            "Enter password: ayushi\n",
            "Login successful!\n",
            "\n",
            "Task Manager Menu:\n",
            "1. Add Task\n",
            "2. View Tasks\n",
            "3. Mark Task as Completed\n",
            "4. Delete Task\n",
            "5. Logout\n",
            "Enter your choice: 2\n",
            "No tasks found.\n",
            "\n",
            "Task Manager Menu:\n",
            "1. Add Task\n",
            "2. View Tasks\n",
            "3. Mark Task as Completed\n",
            "4. Delete Task\n",
            "5. Logout\n"
          ]
        }
      ]
    }
  ]
}